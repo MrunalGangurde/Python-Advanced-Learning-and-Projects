{
 "cells": [
  {
   "cell_type": "markdown",
   "id": "cb0b9aef",
   "metadata": {},
   "source": [
    "### Python Basics: Control Flow and Data Structures"
   ]
  },
  {
   "cell_type": "code",
   "execution_count": 1,
   "id": "6a231703",
   "metadata": {},
   "outputs": [
    {
     "name": "stdout",
     "output_type": "stream",
     "text": [
      "You are an adult.\n"
     ]
    }
   ],
   "source": [
    "# If, Elif, Else Statements\n",
    "# These statements are used for conditional execution of code blocks.\n",
    "\n",
    "age = 20\n",
    "if age < 18:\n",
    "    print(\"You are a minor.\")\n",
    "elif age < 65:\n",
    "    print(\"You are an adult.\")\n",
    "else:\n",
    "    print(\"You are a senior.\")"
   ]
  },
  {
   "cell_type": "code",
   "execution_count": 2,
   "id": "32c34a11",
   "metadata": {},
   "outputs": [
    {
     "name": "stdout",
     "output_type": "stream",
     "text": [
      "apple\n",
      "banana\n",
      "cherry\n"
     ]
    }
   ],
   "source": [
    "# For Loops\n",
    "# For loops are used to iterate over a sequence (like a list, tuple, or string).\n",
    "\n",
    "fruits = [\"apple\", \"banana\", \"cherry\"]\n",
    "for fruit in fruits:\n",
    "    print(fruit)"
   ]
  },
  {
   "cell_type": "code",
   "execution_count": 3,
   "id": "0def4e33",
   "metadata": {},
   "outputs": [
    {
     "name": "stdout",
     "output_type": "stream",
     "text": [
      "0\n",
      "1\n",
      "2\n",
      "3\n",
      "4\n"
     ]
    }
   ],
   "source": [
    "# While Loops\n",
    "# While loops are used to execute a block of code as long as a condition is true.\n",
    "\n",
    "count = 0\n",
    "while count < 5:\n",
    "    print(count)\n",
    "    count += 1"
   ]
  },
  {
   "cell_type": "code",
   "execution_count": 4,
   "id": "7d38a6c0",
   "metadata": {},
   "outputs": [
    {
     "name": "stdout",
     "output_type": "stream",
     "text": [
      "0\n",
      "1\n",
      "2\n",
      "3\n",
      "4\n",
      "1\n",
      "3\n",
      "5\n",
      "7\n",
      "9\n"
     ]
    }
   ],
   "source": [
    "# Break, Continue, Pass Statements\n",
    "# Break: Exits the loop.\n",
    "# Continue: Skips the rest of the code inside the loop for the current iteration.\n",
    "# Pass: Does nothing, serves as a placeholder.\n",
    "\n",
    "for i in range(10):\n",
    "    if i == 5:\n",
    "        break\n",
    "    print(i)\n",
    "\n",
    "for i in range(10):\n",
    "    if i % 2 == 0:\n",
    "        continue\n",
    "    print(i)\n",
    "\n",
    "for i in range(10):\n",
    "    pass  # Placeholder for future code"
   ]
  },
  {
   "cell_type": "code",
   "execution_count": 5,
   "id": "37421fe4",
   "metadata": {},
   "outputs": [
    {
     "name": "stdout",
     "output_type": "stream",
     "text": [
      "[1, 2, 3, 4, 5, 6]\n",
      "[1, 3, 4, 5, 6]\n"
     ]
    }
   ],
   "source": [
    "# Lists\n",
    "# Lists are ordered, mutable collections of items.\n",
    "\n",
    "my_list = [1, 2, 3, 4, 5]\n",
    "my_list.append(6)  # Adding an element\n",
    "print(my_list)\n",
    "\n",
    "my_list.remove(2)  # Removing an element\n",
    "print(my_list)"
   ]
  },
  {
   "cell_type": "code",
   "execution_count": 6,
   "id": "3deb51a1",
   "metadata": {},
   "outputs": [
    {
     "name": "stdout",
     "output_type": "stream",
     "text": [
      "(1, 2, 3, 4, 5)\n"
     ]
    }
   ],
   "source": [
    "# Tuples\n",
    "# Tuples are ordered, immutable collections of items.\n",
    "\n",
    "my_tuple = (1, 2, 3, 4, 5)\n",
    "print(my_tuple)"
   ]
  },
  {
   "cell_type": "code",
   "execution_count": 7,
   "id": "9b608c8c",
   "metadata": {},
   "outputs": [
    {
     "name": "stdout",
     "output_type": "stream",
     "text": [
      "{1, 2, 3, 4, 5, 6}\n",
      "{1, 2, 4, 5, 6}\n"
     ]
    }
   ],
   "source": [
    "# Sets\n",
    "# Sets are unordered collections of unique items.\n",
    "\n",
    "my_set = {1, 2, 3, 4, 5}\n",
    "my_set.add(6)  # Adding an element\n",
    "print(my_set)\n",
    "\n",
    "my_set.remove(3)  # Removing an element\n",
    "print(my_set)"
   ]
  },
  {
   "cell_type": "code",
   "execution_count": 8,
   "id": "68e5988c",
   "metadata": {},
   "outputs": [
    {
     "name": "stdout",
     "output_type": "stream",
     "text": [
      "{'name': 'John', 'age': 30}\n",
      "{'name': 'John', 'age': 31}\n"
     ]
    }
   ],
   "source": [
    "# Dictionaries\n",
    "# Dictionaries are unordered collections of key-value pairs.\n",
    "\n",
    "my_dict = {\"name\": \"John\", \"age\": 30}\n",
    "print(my_dict)\n",
    "\n",
    "my_dict[\"age\"] = 31  # Updating a value\n",
    "print(my_dict)"
   ]
  },
  {
   "cell_type": "code",
   "execution_count": 9,
   "id": "b40fd655",
   "metadata": {},
   "outputs": [
    {
     "name": "stdout",
     "output_type": "stream",
     "text": [
      "Hello, Alice!\n"
     ]
    }
   ],
   "source": [
    "# Defining Functions\n",
    "# Functions are defined using the `def` keyword.\n",
    "\n",
    "def greet(name):\n",
    "    return f\"Hello, {name}!\"\n",
    "\n",
    "print(greet(\"Alice\"))"
   ]
  },
  {
   "cell_type": "code",
   "execution_count": 10,
   "id": "0cc64a54",
   "metadata": {},
   "outputs": [
    {
     "name": "stdout",
     "output_type": "stream",
     "text": [
      "8\n"
     ]
    }
   ],
   "source": [
    "# Arguments and Return Values\n",
    "# Functions can take arguments and return values.\n",
    "\n",
    "def add(a, b):\n",
    "    return a + b\n",
    "\n",
    "print(add(3, 5))"
   ]
  },
  {
   "cell_type": "code",
   "execution_count": 11,
   "id": "33eb9889",
   "metadata": {},
   "outputs": [
    {
     "name": "stdout",
     "output_type": "stream",
     "text": [
      "16\n"
     ]
    }
   ],
   "source": [
    "# Lambda Functions\n",
    "# Lambda functions are small anonymous functions defined using the `lambda` keyword.\n",
    "\n",
    "square = \n",
    "lambda x: x ** 2\n",
    "print(square(4))"
   ]
  },
  {
   "cell_type": "markdown",
   "id": "979f9c21",
   "metadata": {},
   "source": [
    "# Mini Projects"
   ]
  },
  {
   "cell_type": "markdown",
   "id": "57811989",
   "metadata": {},
   "source": [
    "## Project 1: Number Guessing Game"
   ]
  },
  {
   "cell_type": "code",
   "execution_count": 12,
   "id": "20b8de31",
   "metadata": {},
   "outputs": [
    {
     "name": "stdout",
     "output_type": "stream",
     "text": [
      "Guess a number between 1 and 100: 85\n",
      "Too high!\n",
      "Guess a number between 1 and 100: 42\n",
      "Too low!\n",
      "Guess a number between 1 and 100: 73\n",
      "Too high!\n",
      "Guess a number between 1 and 100: 50\n",
      "Too low!\n",
      "Guess a number between 1 and 100: 62\n",
      "Too high!\n",
      "Guess a number between 1 and 100: 60\n",
      "Too high!\n",
      "Guess a number between 1 and 100: 55\n",
      "Too high!\n",
      "Guess a number between 1 and 100: 52\n",
      "Too low!\n",
      "Guess a number between 1 and 100: 53\n",
      "Congratulations! You guessed it!\n"
     ]
    }
   ],
   "source": [
    "import random\n",
    "\n",
    "def number_guessing_game():\n",
    "    number_to_guess = random.randint(1, 100)\n",
    "    guess = None\n",
    "    while guess != number_to_guess:\n",
    "        guess = int(input(\"Guess a number between 1 and 100: \"))\n",
    "        if guess < number_to_guess:\n",
    "            print(\"Too low!\")\n",
    "        elif guess > number_to_guess:\n",
    "            print(\"Too high!\")\n",
    "        else:\n",
    "            print(\"Congratulations! You guessed it!\")\n",
    "\n",
    "number_guessing_game()"
   ]
  },
  {
   "cell_type": "markdown",
   "id": "a622ebb5",
   "metadata": {},
   "source": [
    "## Project 2: Shopping List"
   ]
  },
  {
   "cell_type": "code",
   "execution_count": 13,
   "id": "52c9caf2",
   "metadata": {},
   "outputs": [
    {
     "name": "stdout",
     "output_type": "stream",
     "text": [
      "Enter an item (or type 'done' to finish): apples\n",
      "Enter an item (or type 'done' to finish): milk\n",
      "Enter an item (or type 'done' to finish): done\n",
      "Your shopping list: ['apples', 'milk']\n"
     ]
    }
   ],
   "source": [
    "def shopping_list():\n",
    "    my_list = []\n",
    "    while True:\n",
    "        item = input(\"Enter an item (or type 'done' to finish): \")\n",
    "        if item.lower() == 'done':\n",
    "            break\n",
    "        my_list.append(item)\n",
    "    print(\"Your shopping list:\", my_list)\n",
    "\n",
    "shopping_list()"
   ]
  },
  {
   "cell_type": "markdown",
   "id": "ba2c0aee",
   "metadata": {},
   "source": [
    "## Project 3: Simple Calculator"
   ]
  },
  {
   "cell_type": "code",
   "execution_count": 14,
   "id": "1104f58d",
   "metadata": {},
   "outputs": [
    {
     "name": "stdout",
     "output_type": "stream",
     "text": [
      "Enter operation (+, -, *, /) or 'quit' to exit: -\n",
      "Enter first number: 78\n",
      "Enter second number: 45\n",
      "Result: 33.0\n",
      "Enter operation (+, -, *, /) or 'quit' to exit: quit\n"
     ]
    }
   ],
   "source": [
    "def simple_calculator():\n",
    "    while True:\n",
    "        operation = input(\"Enter operation (+, -, *, /) or 'quit' to exit: \")\n",
    "        if operation == 'quit':\n",
    "            break\n",
    "        num1 = float(input(\"Enter first number: \"))\n",
    "        num2 = float(input(\"Enter second number: \"))\n",
    "\n",
    "        if operation == '+':\n",
    "            print(f\"Result: {num1 + num2}\")\n",
    "        elif operation == '-':\n",
    "            print(f\"Result: {num1 - num2}\")\n",
    "        elif operation == '*':\n",
    "            print(f\"Result: {num1 * num2}\")\n",
    "        elif operation == '/':\n",
    "            print(f\"Result: {num1 / num2}\")\n",
    "        else:\n",
    "            print(\"Invalid operation\")\n",
    "\n",
    "simple_calculator()"
   ]
  },
  {
   "cell_type": "markdown",
   "id": "83b62ced",
   "metadata": {},
   "source": [
    "## Project 4: Contact Book"
   ]
  },
  {
   "cell_type": "code",
   "execution_count": 15,
   "id": "a120be4a",
   "metadata": {},
   "outputs": [
    {
     "name": "stdout",
     "output_type": "stream",
     "text": [
      "Enter action (add, view, delete, quit): view\n",
      "Enter name to view: python basics day 2\n",
      "python basics day 2: Not found\n",
      "Enter action (add, view, delete, quit): quit\n"
     ]
    }
   ],
   "source": [
    "def contact_book():\n",
    "    contacts = {}\n",
    "    while True:\n",
    "        action = input(\"Enter action (add, view, delete, quit): \")\n",
    "        if action == 'quit':\n",
    "            break\n",
    "        elif action == 'add':\n",
    "            name = input(\"Enter name: \")\n",
    "            number = input(\"Enter number: \")\n",
    "            contacts[name] = number\n",
    "        elif action == 'view':\n",
    "            name = input(\"Enter name to view: \")\n",
    "            print(f\"{name}: {contacts.get(name, 'Not found')}\")\n",
    "        elif action == 'delete':\n",
    "            name = input(\"Enter name to delete: \")\n",
    "            contacts.pop(name, None)\n",
    "        else:\n",
    "            print(\"Invalid action\")\n",
    "\n",
    "contact_book()"
   ]
  },
  {
   "cell_type": "markdown",
   "id": "ee3eccba",
   "metadata": {},
   "source": [
    "## Project 5: Temperature Converter"
   ]
  },
  {
   "cell_type": "code",
   "execution_count": null,
   "id": "a9dd1a4a",
   "metadata": {},
   "outputs": [],
   "source": [
    "def temperature_converter():\n",
    "    def celsius_to_fahrenheit(celsius):\n",
    "        return (celsius * 9/5) + 32\n",
    "\n",
    "    def fahrenheit_to_celsius(fahrenheit):\n",
    "        return (fahrenheit - 32) * 5/9\n",
    "\n",
    "    while True:\n",
    "        scale = input(\"Enter temperature scale to convert from (C/F) or 'quit' to exit: \").upper()\n",
    "        if scale == 'QUIT':\n",
    "            break\n",
    "        temp = float(input(f\"Enter temperature in {scale}: \"))\n",
    "\n",
    "        if scale == 'C':\n",
    "            print(f\"{temp}C is {celsius_to_fahrenheit(temp)}F\")\n",
    "        elif scale == 'F':\n",
    "            print(f\"{temp}F is {fahrenheit_to_celsius(temp)}C\")\n",
    "        else:\n",
    "            print(\"Invalid scale\")\n",
    "\n",
    "temperature_converter()"
   ]
  },
  {
   "cell_type": "markdown",
   "id": "2114085d",
   "metadata": {},
   "source": [
    "##### The Python code in the notebook provides a comprehensive introduction to fundamental programming concepts and their practical applications. It covers essential control flow structures (if-else, for, while, break, continue, pass), data structures (lists, tuples, sets, dictionaries), and function definitions."
   ]
  },
  {
   "cell_type": "code",
   "execution_count": null,
   "id": "4a04dddf",
   "metadata": {},
   "outputs": [],
   "source": []
  }
 ],
 "metadata": {
  "kernelspec": {
   "display_name": "Python 3 (ipykernel)",
   "language": "python",
   "name": "python3"
  },
  "language_info": {
   "codemirror_mode": {
    "name": "ipython",
    "version": 3
   },
   "file_extension": ".py",
   "mimetype": "text/x-python",
   "name": "python",
   "nbconvert_exporter": "python",
   "pygments_lexer": "ipython3",
   "version": "3.11.5"
  }
 },
 "nbformat": 4,
 "nbformat_minor": 5
}
