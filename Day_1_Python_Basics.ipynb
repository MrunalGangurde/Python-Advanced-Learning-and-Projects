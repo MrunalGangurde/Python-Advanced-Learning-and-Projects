{
 "cells": [
  {
   "cell_type": "markdown",
   "id": "c62021a2",
   "metadata": {},
   "source": [
    "## Python_Basics"
   ]
  },
  {
   "cell_type": "code",
   "execution_count": 1,
   "id": "55abd46d",
   "metadata": {},
   "outputs": [],
   "source": [
    "#Python Introduction\n",
    "#Python is a high-level, interpreted programming language known for its readability and ease of use. \n",
    "#It supports multiple programming paradigms, including procedural, object-oriented, and functional programming."
   ]
  },
  {
   "cell_type": "code",
   "execution_count": 2,
   "id": "5256bbde",
   "metadata": {},
   "outputs": [
    {
     "name": "stdout",
     "output_type": "stream",
     "text": [
      "5 3.14 John\n"
     ]
    }
   ],
   "source": [
    "# Variables\n",
    "#Variables are used to store data values. \n",
    "#In Python, you don't need to declare the type of a variable; the type is inferred from the value it is assigned.\n",
    "# Example:\n",
    "x = 5  # An integer variable\n",
    "y = 3.14  # A float variable\n",
    "name = \"John\"  # A string variable\n",
    "\n",
    "print(x, y, name)"
   ]
  },
  {
   "cell_type": "code",
   "execution_count": 3,
   "id": "e56f65dc",
   "metadata": {},
   "outputs": [
    {
     "name": "stdout",
     "output_type": "stream",
     "text": [
      "['False', 'None', 'True', 'and', 'as', 'assert', 'async', 'await', 'break', 'class', 'continue', 'def', 'del', 'elif', 'else', 'except', 'finally', 'for', 'from', 'global', 'if', 'import', 'in', 'is', 'lambda', 'nonlocal', 'not', 'or', 'pass', 'raise', 'return', 'try', 'while', 'with', 'yield']\n"
     ]
    }
   ],
   "source": [
    "# Keywords\n",
    "# Keywords are reserved words in Python that have special meanings. They cannot be used as variable names.\n",
    "import keyword\n",
    "print(keyword.kwlist)"
   ]
  },
  {
   "cell_type": "code",
   "execution_count": 4,
   "id": "8441af93",
   "metadata": {},
   "outputs": [
    {
     "data": {
      "text/plain": [
       "'\\nThis is a multi-line comment.\\nIt spans multiple lines.\\n'"
      ]
     },
     "execution_count": 4,
     "metadata": {},
     "output_type": "execute_result"
    }
   ],
   "source": [
    "# Single and Multi-line Comments\n",
    "# Comments are used to explain code. Single-line comments start with `#`, and multi-line comments are enclosed in triple quotes.\n",
    "\n",
    "# This is a single-line comment\n",
    "\n",
    "\"\"\"\n",
    "This is a multi-line comment.\n",
    "It spans multiple lines.\n",
    "\"\"\""
   ]
  },
  {
   "cell_type": "code",
   "execution_count": 5,
   "id": "8415b472",
   "metadata": {},
   "outputs": [
    {
     "name": "stdout",
     "output_type": "stream",
     "text": [
      "5 5.0\n"
     ]
    }
   ],
   "source": [
    "# Type Casting\n",
    "# Type casting is converting one data type to another. This can be done using functions like `int()`, `float()`, and `str()`.\n",
    "\n",
    "a = \"5\"\n",
    "b = int(a)  # Converts the string '5' to an integer 5\n",
    "c = float(a)  # Converts the string '5' to a float 5.0\n",
    "\n",
    "print(b, c)"
   ]
  },
  {
   "cell_type": "code",
   "execution_count": 6,
   "id": "b9240a98",
   "metadata": {},
   "outputs": [
    {
     "name": "stdout",
     "output_type": "stream",
     "text": [
      "HELLO, WORLD!\n",
      "hello, world!\n",
      "Hello, Python!\n",
      "['Hello', ' World!']\n"
     ]
    }
   ],
   "source": [
    "# String & String Functions\n",
    "# Strings are sequences of characters. They can be manipulated using various functions.\n",
    "\n",
    "s = \"Hello, World!\"\n",
    "print(s.upper())  # Converts to uppercase\n",
    "print(s.lower())  # Converts to lowercase\n",
    "print(s.replace(\"World\", \"Python\"))  # Replaces 'World' with 'Python'\n",
    "print(s.split(\",\"))  # Splits the string at commas"
   ]
  },
  {
   "cell_type": "code",
   "execution_count": 7,
   "id": "4a580361",
   "metadata": {},
   "outputs": [
    {
     "name": "stdout",
     "output_type": "stream",
     "text": [
      "True\n",
      "False\n",
      "False\n"
     ]
    }
   ],
   "source": [
    "# Boolean Function\n",
    "# Boolean functions return `True` or `False`.\n",
    "\n",
    "print(10 > 9)  # True\n",
    "print(10 == 9)  # False\n",
    "print(10 < 9)  # False"
   ]
  },
  {
   "cell_type": "code",
   "execution_count": 8,
   "id": "b721e8d1",
   "metadata": {},
   "outputs": [
    {
     "name": "stdout",
     "output_type": "stream",
     "text": [
      "Hello World\n",
      "HelloHelloHello\n",
      "ell\n"
     ]
    }
   ],
   "source": [
    "# String Manipulation\n",
    "# Strings can be manipulated using various operators and methods.\n",
    "\n",
    "str1 = \"Hello\"\n",
    "str2 = \"World\"\n",
    "str3 = str1 + \" \" + str2  # Concatenation\n",
    "print(str3)\n",
    "\n",
    "print(str1 * 3)  # Repetition\n",
    "\n",
    "print(str1[1:4])  # Slicing"
   ]
  },
  {
   "cell_type": "code",
   "execution_count": 9,
   "id": "2ec0c611",
   "metadata": {},
   "outputs": [
    {
     "name": "stdout",
     "output_type": "stream",
     "text": [
      "13\n",
      "7\n",
      "30\n",
      "3.3333333333333335\n",
      "1\n",
      "1000\n",
      "3\n"
     ]
    }
   ],
   "source": [
    "# Arithmetic Operators\n",
    "# Python supports various arithmetic operators: +, -, *, /, %, **, //\n",
    "\n",
    "x = 10\n",
    "y = 3\n",
    "\n",
    "print(x + y)  # Addition\n",
    "print(x - y)  # Subtraction\n",
    "print(x * y)  # Multiplication\n",
    "print(x / y)  # Division\n",
    "print(x % y)  # Modulus\n",
    "print(x ** y)  # Exponential\n",
    "print(x // y)  # Floor Division"
   ]
  },
  {
   "cell_type": "markdown",
   "id": "92851bb9",
   "metadata": {},
   "source": [
    "## Mini Projects"
   ]
  },
  {
   "cell_type": "markdown",
   "id": "88c7a185",
   "metadata": {},
   "source": [
    "### Project 1: Basic Calculator"
   ]
  },
  {
   "cell_type": "code",
   "execution_count": 10,
   "id": "dbc66257",
   "metadata": {},
   "outputs": [
    {
     "name": "stdout",
     "output_type": "stream",
     "text": [
      "Enter operation (+, -, *, /, %, **, //): *\n",
      "Enter first number: 98\n",
      "Enter second number: 2\n",
      "Result: 196.0\n"
     ]
    }
   ],
   "source": [
    "def calculator():\n",
    "    operation = input(\"Enter operation (+, -, *, /, %, **, //): \")\n",
    "    num1 = float(input(\"Enter first number: \"))\n",
    "    num2 = float(input(\"Enter second number: \"))\n",
    "\n",
    "    if operation == '+':\n",
    "        print(f\"Result: {num1 + num2}\")\n",
    "    elif operation == '-':\n",
    "        print(f\"Result: {num1 - num2}\")\n",
    "    elif operation == '*':\n",
    "        print(f\"Result: {num1 * num2}\")\n",
    "    elif operation == '/':\n",
    "        print(f\"Result: {num1 / num2}\")\n",
    "    elif operation == '%':\n",
    "        print(f\"Result: {num1 % num2}\")\n",
    "    elif operation == '**':\n",
    "        print(f\"Result: {num1 ** num2}\")\n",
    "    elif operation == '//':\n",
    "        print(f\"Result: {num1 // num2}\")\n",
    "    else:\n",
    "        print(\"Invalid operation\")\n",
    "\n",
    "calculator()"
   ]
  },
  {
   "cell_type": "markdown",
   "id": "19846fff",
   "metadata": {},
   "source": [
    "### Project 2: String Manipulation Tool"
   ]
  },
  {
   "cell_type": "code",
   "execution_count": 11,
   "id": "7654f99b",
   "metadata": {},
   "outputs": [
    {
     "name": "stdout",
     "output_type": "stream",
     "text": [
      "Enter a string: Hello this is python beginner notes.\n",
      "1. Convert to uppercase\n",
      "2. Convert to lowercase\n",
      "3. Replace a substring\n",
      "4. Split the string\n",
      "Enter your choice: 1\n",
      "HELLO THIS IS PYTHON BEGINNER NOTES.\n"
     ]
    }
   ],
   "source": [
    "def string_manipulation_tool():\n",
    "    s = input(\"Enter a string: \")\n",
    "    print(\"1. Convert to uppercase\")\n",
    "    print(\"2. Convert to lowercase\")\n",
    "    print(\"3. Replace a substring\")\n",
    "    print(\"4. Split the string\")\n",
    "    choice = int(input(\"Enter your choice: \"))\n",
    "\n",
    "    if choice == 1:\n",
    "        print(s.upper())\n",
    "    elif choice == 2:\n",
    "        print(s.lower())\n",
    "    elif choice == 3:\n",
    "        old = input(\"Enter the substring to replace: \")\n",
    "        new = input(\"Enter the new substring: \")\n",
    "        print(s.replace(old, new))\n",
    "    elif choice == 4:\n",
    "        delimiter = input(\"Enter the delimiter: \")\n",
    "        print(s.split(delimiter))\n",
    "    else:\n",
    "        print(\"Invalid choice\")\n",
    "\n",
    "string_manipulation_tool()"
   ]
  },
  {
   "cell_type": "markdown",
   "id": "3a2481b0",
   "metadata": {},
   "source": [
    "### Project 3: Boolean Checker"
   ]
  },
  {
   "cell_type": "code",
   "execution_count": 12,
   "id": "80e059a4",
   "metadata": {},
   "outputs": [
    {
     "name": "stdout",
     "output_type": "stream",
     "text": [
      "Enter a number: 12\n",
      "Is 12 greater than 10? True\n",
      "Is 12 equal to 10? False\n",
      "Is 12 less than 10? False\n"
     ]
    }
   ],
   "source": [
    "def boolean_checker():\n",
    "    num = int(input(\"Enter a number: \"))\n",
    "    print(f\"Is {num} greater than 10? {num > 10}\")\n",
    "    print(f\"Is {num} equal to 10? {num == 10}\")\n",
    "    print(f\"Is {num} less than 10? {num < 10}\")\n",
    "\n",
    "boolean_checker()"
   ]
  },
  {
   "cell_type": "markdown",
   "id": "f96367aa",
   "metadata": {},
   "source": [
    "### Project 4: Arithmetic Operations on List"
   ]
  },
  {
   "cell_type": "code",
   "execution_count": 13,
   "id": "100980ec",
   "metadata": {},
   "outputs": [
    {
     "name": "stdout",
     "output_type": "stream",
     "text": [
      "Sum: 15\n",
      "Product: 120\n"
     ]
    }
   ],
   "source": [
    "def arithmetic_operations_on_list():\n",
    "    nums = [1, 2, 3, 4, 5]\n",
    "    sum_nums = sum(nums)\n",
    "    prod_nums = 1\n",
    "    for num in nums:\n",
    "        prod_nums *= num\n",
    "    print(f\"Sum: {sum_nums}\")\n",
    "    print(f\"Product: {prod_nums}\")\n",
    "\n",
    "arithmetic_operations_on_list()"
   ]
  },
  {
   "cell_type": "markdown",
   "id": "fbc96494",
   "metadata": {},
   "source": [
    "### Project 5: String Slicer"
   ]
  },
  {
   "cell_type": "code",
   "execution_count": 14,
   "id": "7f1905e2",
   "metadata": {},
   "outputs": [
    {
     "name": "stdout",
     "output_type": "stream",
     "text": [
      "Enter a string: In total 5 mini projects are in these notebook file.\n",
      "Enter the start index: 4\n",
      "Enter the end index: 16\n",
      "Sliced string: otal 5 mini \n"
     ]
    }
   ],
   "source": [
    "def string_slicer():\n",
    "    s = input(\"Enter a string: \")\n",
    "    start = int(input(\"Enter the start index: \"))\n",
    "    end = int(input(\"Enter the end index: \"))\n",
    "    print(f\"Sliced string: {s[start:end]}\")\n",
    "\n",
    "string_slicer()"
   ]
  },
  {
   "cell_type": "markdown",
   "id": "62cb4a9e",
   "metadata": {},
   "source": [
    "##### The Python code in the notebook provides a solid foundation for beginners to grasp core concepts and start experimenting with programming. It covers essential topics like variables, data types, operators, and string manipulation, along with practical exercises to reinforce learning."
   ]
  },
  {
   "cell_type": "code",
   "execution_count": null,
   "id": "995fdbf2",
   "metadata": {},
   "outputs": [],
   "source": []
  }
 ],
 "metadata": {
  "kernelspec": {
   "display_name": "Python 3 (ipykernel)",
   "language": "python",
   "name": "python3"
  },
  "language_info": {
   "codemirror_mode": {
    "name": "ipython",
    "version": 3
   },
   "file_extension": ".py",
   "mimetype": "text/x-python",
   "name": "python",
   "nbconvert_exporter": "python",
   "pygments_lexer": "ipython3",
   "version": "3.11.5"
  }
 },
 "nbformat": 4,
 "nbformat_minor": 5
}
